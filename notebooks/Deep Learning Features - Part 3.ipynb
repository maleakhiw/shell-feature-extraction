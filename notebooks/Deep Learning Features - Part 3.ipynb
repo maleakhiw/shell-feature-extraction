{
 "cells": [
  {
   "cell_type": "markdown",
   "metadata": {},
   "source": [
    "# Feature Extraction (Deep Learning Features)\n",
    "\n",
    "## Part 3\n",
    "\n",
    "**Author**: Maleakhi Agung Wijaya  \n",
    "**Email**: maw219@cam.ac.uk  \n",
    "**Description**: This file contains code for extracting deep learning features. We considered using transfer learning using VGG16, fine-tuned with the shell datasets and image augmentation as feature extractors. See part 1 for purely transfer learning where all weights of pretrained networks are freezed and see part 3 for transfer learning using random weights and autoencoders as feature extractors."
   ]
  },
  {
   "cell_type": "code",
   "execution_count": 1,
   "metadata": {},
   "outputs": [],
   "source": [
    "import numpy as np\n",
    "import pandas as pd\n",
    "from sklearn.preprocessing import scale\n",
    "from sklearn.metrics import f1_score, accuracy_score, confusion_matrix, classification_report\n",
    "import matplotlib.pyplot as plt\n",
    "from IPython.display import display, HTML\n",
    "from sklearn.model_selection import train_test_split\n",
    "from sklearn.preprocessing import StandardScaler, MinMaxScaler\n",
    "from sklearn.decomposition import PCA\n",
    "from sklearn.model_selection import GridSearchCV\n",
    "from sklearn.model_selection import cross_val_score\n",
    "from sklearn.svm import SVC\n",
    "from sklearn.ensemble import RandomForestClassifier\n",
    "from sklearn.metrics import ConfusionMatrixDisplay\n",
    "import plotly.express as px\n",
    "import plotly.graph_objects as go\n",
    "import scipy.io\n",
    "from sklearn.preprocessing import LabelEncoder\n",
    "from sklearn.model_selection import KFold, cross_val_score, StratifiedKFold\n",
    "from sklearn.dummy import DummyClassifier\n",
    "from sklearn.cluster import KMeans\n",
    "import pickle\n",
    "from scipy.spatial.distance import cdist\n",
    "from sklearn.decomposition import IncrementalPCA, TruncatedSVD\n",
    "from sklearn.random_projection import SparseRandomProjection\n",
    "\n",
    "# Images\n",
    "import os\n",
    "import cv2\n",
    "from tqdm.notebook import tqdm\n",
    "import seaborn as sns\n",
    "import matplotlib.style as style\n",
    "from skimage.io import imread, imshow\n",
    "import re\n",
    "\n",
    "import warnings\n",
    "warnings.filterwarnings('ignore')\n",
    "\n",
    "from tensorflow.keras import optimizers\n",
    "import tensorflow as tf\n",
    "import tensorflow.keras as keras\n",
    "from tensorflow.keras import layers, models, backend as K, callbacks, losses\n",
    "from tensorflow.keras.applications.vgg16 import VGG16\n",
    "from tensorflow.keras.applications.vgg19 import VGG19\n",
    "from tensorflow.keras.applications import InceptionV3, ResNet50\n",
    "from tensorflow.keras.utils import to_categorical\n",
    "from tensorflow.keras.models import Model\n",
    "from tensorflow.keras.preprocessing.image import ImageDataGenerator\n",
    "from tensorflow.keras.callbacks import ReduceLROnPlateau, ModelCheckpoint"
   ]
  },
  {
   "cell_type": "code",
   "execution_count": 2,
   "metadata": {},
   "outputs": [],
   "source": [
    "%run Utilities.ipynb"
   ]
  },
  {
   "cell_type": "markdown",
   "metadata": {},
   "source": [
    "## Colab Section\n",
    "\n",
    "The following section is ran on Google Colab since I needed GPU to fine-tuned the VGG16 model. I only fine-tuned the last convolutional block (block 5)."
   ]
  },
  {
   "cell_type": "code",
   "execution_count": null,
   "metadata": {},
   "outputs": [],
   "source": [
    "# Get labels for each image, extract\n",
    "path = 'drive/MyDrive/shell_species'\n",
    "y_species = []\n",
    "filenames = []\n",
    "for _, _, files in os.walk(os.path.join(path, \"shell_species_134_data\")):\n",
    "    for file in files:\n",
    "        label = re.search(r\"\\d\", file)\n",
    "        idx_label = label.start() - 1\n",
    "        y_species.append(file[:idx_label])\n",
    "        filenames.append(file)"
   ]
  },
  {
   "cell_type": "code",
   "execution_count": null,
   "metadata": {},
   "outputs": [],
   "source": [
    "le = LabelEncoder()\n",
    "y_species = le.fit_transform(y_species) # categorise conversion from string for processing\n",
    "\n",
    "# Dictionary for flow_from_dataframe\n",
    "dict_df = {\n",
    "    \"x\": filenames,\n",
    "    \"y\": y_species\n",
    "}\n",
    "df = pd.DataFrame(dict_df)\n",
    "df.head()"
   ]
  },
  {
   "cell_type": "code",
   "execution_count": null,
   "metadata": {},
   "outputs": [],
   "source": [
    "path = os.path.join(path, \"shell_species_134_data\")"
   ]
  },
  {
   "cell_type": "code",
   "execution_count": null,
   "metadata": {},
   "outputs": [],
   "source": [
    "# Construct data generator (with image augmentation)\n",
    "datagen = ImageDataGenerator(\n",
    "    rescale=1./255, # normalise the images\n",
    "    validation_split=0.1,\n",
    "    dtype=tf.float32,\n",
    "    zoom_range=0.2, \n",
    "    rotation_range=30, \n",
    "    width_shift_range=0.2, \n",
    "    height_shift_range=0.2, \n",
    "    shear_range=0.2\n",
    ")\n",
    "\n",
    "# Training and validation for autoencoders\n",
    "train_generator = datagen.flow_from_dataframe(\n",
    "    dataframe=df,\n",
    "    directory=path,\n",
    "    x_col=\"x\",\n",
    "    y_col=\"y\",\n",
    "    target_size=(224, 224),\n",
    "    batch_size=64,\n",
    "    class_mode=\"raw\",\n",
    "    seed=123,\n",
    "    subset=\"training\",\n",
    "    shuffle=True\n",
    ")\n",
    "\n",
    "validation_generator = datagen.flow_from_dataframe(\n",
    "    dataframe=df,\n",
    "    directory=path,\n",
    "    x_col=\"x\",\n",
    "    y_col=\"y\",\n",
    "    target_size=(224, 224),\n",
    "    batch_size=64,\n",
    "    class_mode=\"raw\",\n",
    "    seed=123,\n",
    "    subset=\"validation\",\n",
    "    shuffle=True\n",
    ")"
   ]
  },
  {
   "cell_type": "code",
   "execution_count": null,
   "metadata": {},
   "outputs": [],
   "source": [
    "VGG_model = VGG16(weights=\"imagenet\", include_top=False, input_shape=(224, 224, 3))"
   ]
  },
  {
   "cell_type": "code",
   "execution_count": null,
   "metadata": {},
   "outputs": [],
   "source": [
    "# Set non trainable in our case\n",
    "# Frozen all layers except the last CNN block\n",
    "for layer in VGG_model.layers:\n",
    "    layer.trainable=False"
   ]
  },
  {
   "cell_type": "code",
   "execution_count": null,
   "metadata": {},
   "outputs": [],
   "source": [
    "# Make sure you have frozen the correct layers\n",
    "for i, layer in enumerate(VGG_model.layers)[:15]:\n",
    "    print(i, layer.name, layer.trainable)"
   ]
  },
  {
   "cell_type": "code",
   "execution_count": null,
   "metadata": {},
   "outputs": [],
   "source": [
    "# Add top layers to the VGG model\n",
    "x = VGG_model.output\n",
    "x = layers.Flatten()(x)\n",
    "x = layers.Dense(512, activation=\"relu\")(x)\n",
    "x = layers.Dropout(0.5)(x)\n",
    "x = layers.Dense(256, activation=\"relu\")(x)\n",
    "x = layers.Dense(134, activation=\"softmax\")(x)\n",
    "transfer_model= Model(inputs=VGG_model.input, outputs=x)"
   ]
  },
  {
   "cell_type": "code",
   "execution_count": null,
   "metadata": {},
   "outputs": [],
   "source": [
    "# Set callbacks\n",
    "lr_reduce = ReduceLROnPlateau(monitor='val_accuracy', factor=0.6, patience=8, verbose=1, mode='max', min_lr=5e-5)\n",
    "checkpoint = ModelCheckpoint('vgg16_finetune.h15', monitor= 'val_accuracy', mode= 'max', save_best_only = True, verbose= 1)"
   ]
  },
  {
   "cell_type": "code",
   "execution_count": null,
   "metadata": {},
   "outputs": [],
   "source": [
    "learning_rate= 5e-5\n",
    "transfer_model.compile(loss=\"sparse_categorical_crossentropy\", optimizer=optimizers.Adam(lr=learning_rate), metrics=[\"accuracy\"])\n",
    "history = transfer_model.fit(train_generator, \n",
    "                             validation_data=(validation_generator), \n",
    "                             epochs=100, shuffle=True,\n",
    "                             callbacks=[lr_reduce, checkpoint], verbose=1)"
   ]
  },
  {
   "cell_type": "markdown",
   "metadata": {},
   "source": [
    "## Pretrained VGG16\n",
    "This section load the VGG16 finetuned model to be used as a feature extractor."
   ]
  },
  {
   "cell_type": "code",
   "execution_count": 3,
   "metadata": {},
   "outputs": [],
   "source": [
    "filenames = sorted(os.listdir(SHELL_IMAGES_DATA))\n",
    "X_species, y_species = preprocess_x_y(filenames)\n",
    "le = LabelEncoder()\n",
    "y_species = le.fit_transform(y_species)"
   ]
  },
  {
   "cell_type": "code",
   "execution_count": 4,
   "metadata": {},
   "outputs": [
    {
     "name": "stdout",
     "output_type": "stream",
     "text": [
      "1\n"
     ]
    },
    {
     "data": {
      "image/png": "[encoded data removed]",
      "text/plain": [
       "<Figure size 864x432 with 2 Axes>"
      ]
     },
     "metadata": {
      "needs_background": "light"
     },
     "output_type": "display_data"
    }
   ],
   "source": [
    "# Test visualise image\n",
    "fig = plt.figure(figsize=(12, 6))\n",
    "ax1 = fig.add_subplot(121)\n",
    "ax2 = fig.add_subplot(122)\n",
    "print(y_species[12])\n",
    "image1 = cv2.imread(os.path.join(SHELL_IMAGES_DATA, X_species[112][0]))\n",
    "image2 = cv2.imread(os.path.join(SHELL_IMAGES_DATA, X_species[112][1]))\n",
    "ax1.imshow(image1)\n",
    "ax2.imshow(image2)\n",
    "\n",
    "plt.show()"
   ]
  },
  {
   "cell_type": "code",
   "execution_count": 9,
   "metadata": {},
   "outputs": [],
   "source": [
    "# model = load_model(\"drive/MyDrive/fine_tuned_vgg16_model\")\n",
    "# finetuned model located on drive"
   ]
  },
  {
   "cell_type": "code",
   "execution_count": 11,
   "metadata": {
    "scrolled": true
   },
   "outputs": [
    {
     "name": "stdout",
     "output_type": "stream",
     "text": [
      "Model: \"vgg16\"\n",
      "_________________________________________________________________\n",
      "Layer (type)                 Output Shape              Param #   \n",
      "=================================================================\n",
      "input_2 (InputLayer)         [(None, 224, 224, 3)]     0         \n",
      "_________________________________________________________________\n",
      "block1_conv1 (Conv2D)        (None, 224, 224, 64)      1792      \n",
      "_________________________________________________________________\n",
      "block1_conv2 (Conv2D)        (None, 224, 224, 64)      36928     \n",
      "_________________________________________________________________\n",
      "block1_pool (MaxPooling2D)   (None, 112, 112, 64)      0         \n",
      "_________________________________________________________________\n",
      "block2_conv1 (Conv2D)        (None, 112, 112, 128)     73856     \n",
      "_________________________________________________________________\n",
      "block2_conv2 (Conv2D)        (None, 112, 112, 128)     147584    \n",
      "_________________________________________________________________\n",
      "block2_pool (MaxPooling2D)   (None, 56, 56, 128)       0         \n",
      "_________________________________________________________________\n",
      "block3_conv1 (Conv2D)        (None, 56, 56, 256)       295168    \n",
      "_________________________________________________________________\n",
      "block3_conv2 (Conv2D)        (None, 56, 56, 256)       590080    \n",
      "_________________________________________________________________\n",
      "block3_conv3 (Conv2D)        (None, 56, 56, 256)       590080    \n",
      "_________________________________________________________________\n",
      "block3_pool (MaxPooling2D)   (None, 28, 28, 256)       0         \n",
      "_________________________________________________________________\n",
      "block4_conv1 (Conv2D)        (None, 28, 28, 512)       1180160   \n",
      "_________________________________________________________________\n",
      "block4_conv2 (Conv2D)        (None, 28, 28, 512)       2359808   \n",
      "_________________________________________________________________\n",
      "block4_conv3 (Conv2D)        (None, 28, 28, 512)       2359808   \n",
      "_________________________________________________________________\n",
      "block4_pool (MaxPooling2D)   (None, 14, 14, 512)       0         \n",
      "_________________________________________________________________\n",
      "block5_conv1 (Conv2D)        (None, 14, 14, 512)       2359808   \n",
      "_________________________________________________________________\n",
      "block5_conv2 (Conv2D)        (None, 14, 14, 512)       2359808   \n",
      "_________________________________________________________________\n",
      "block5_conv3 (Conv2D)        (None, 14, 14, 512)       2359808   \n",
      "_________________________________________________________________\n",
      "block5_pool (MaxPooling2D)   (None, 7, 7, 512)         0         \n",
      "=================================================================\n",
      "Total params: 14,714,688\n",
      "Trainable params: 0\n",
      "Non-trainable params: 14,714,688\n",
      "_________________________________________________________________\n"
     ]
    }
   ],
   "source": [
    "# Set non trainable in our case\n",
    "for layer in model.layers:\n",
    "    layer.trainable=False\n",
    "\n",
    "model.summary()"
   ]
  },
  {
   "cell_type": "markdown",
   "metadata": {},
   "source": [
    "### Feature Extraction"
   ]
  },
  {
   "cell_type": "code",
   "execution_count": 46,
   "metadata": {},
   "outputs": [],
   "source": [
    "# Store features\n",
    "X_features_vgg_a = []\n",
    "X_features_vgg_b = []"
   ]
  },
  {
   "cell_type": "code",
   "execution_count": 48,
   "metadata": {},
   "outputs": [
    {
     "data": {
      "application/vnd.jupyter.widget-view+json": {
       "model_id": "ef783260706741c28878a2fc7c13ac97",
       "version_major": 2,
       "version_minor": 0
      },
      "text/plain": [
       "HBox(children=(FloatProgress(value=0.0, max=1340.0), HTML(value='')))"
      ]
     },
     "metadata": {},
     "output_type": "display_data"
    },
    {
     "name": "stdout",
     "output_type": "stream",
     "text": [
      "\n"
     ]
    }
   ],
   "source": [
    "### This cells only for extracting A (cannot do both at the same time,\n",
    "# memory issue)\n",
    "for X in tqdm(X_species):\n",
    "    X_a = X[0] # A position\n",
    "    X_b = X[1] # B position\n",
    "    \n",
    "    # Open the image in gray scale\n",
    "    image_a = cv2.imread(os.path.join(SHELL_IMAGES_DATA, X_a), cv2.IMREAD_COLOR)\n",
    "    image_b = cv2.imread(os.path.join(SHELL_IMAGES_DATA, X_b), cv2.IMREAD_COLOR)\n",
    "    \n",
    "    # Preprocess the image\n",
    "    image_a = cv2.resize(image_a, (224, 224))\n",
    "    image_b = cv2.resize(image_b, (224, 224))\n",
    "    \n",
    "    image_a = cv2.cvtColor(image_a, cv2.COLOR_RGB2BGR)\n",
    "    image_a = image_a / 255.0\n",
    "    image_a = np.reshape(image_a, (-1, 224, 224, 3))\n",
    "    \n",
    "    image_b = cv2.cvtColor(image_b, cv2.COLOR_RGB2BGR)\n",
    "    image_b = image_b / 255.0\n",
    "    image_b = np.reshape(image_b, (-1, 224, 224, 3))\n",
    "    \n",
    "    # Block 1 - fc\n",
    "    X_features_vgg_a.append(model.predict(image_a).flatten())\n",
    "    X_features_vgg_b.append(model.predict(image_b).flatten())"
   ]
  },
  {
   "cell_type": "code",
   "execution_count": 49,
   "metadata": {},
   "outputs": [],
   "source": [
    "## Save objects\n",
    "save_object(X_features_vgg_a, \"../results/fine_tuned_vgg16_a.pickle\")\n",
    "save_object(X_features_vgg_b, \"../results/fine_tuned_vgg16_b.pickle\")"
   ]
  },
  {
   "cell_type": "markdown",
   "metadata": {},
   "source": [
    "### Further Preprocessing"
   ]
  },
  {
   "cell_type": "code",
   "execution_count": 50,
   "metadata": {},
   "outputs": [
    {
     "name": "stdout",
     "output_type": "stream",
     "text": [
      "(1340, 439)\n",
      "(1340, 439)\n"
     ]
    }
   ],
   "source": [
    "X_inception_a = load_object(\"../results/fine_tuned_vgg16_a.pickle\")\n",
    "X_inception_b = load_object(\"../results/fine_tuned_vgg16_a.pickle\")\n",
    "\n",
    "# Reshape \n",
    "X_inception_a = np.reshape(X_inception_a, (1340, -1))\n",
    "X_inception_b = np.reshape(X_inception_b, (1340, -1))\n",
    "\n",
    "# Dimensionality reduction using PCA as we have too many\n",
    "# features at the moment.\n",
    "pca = PCA(n_components=.95)\n",
    "X_inception_a = pca.fit_transform(X_inception_a)\n",
    "X_inception_b = pca.fit_transform(X_inception_b)\n",
    "\n",
    "print(X_inception_a.shape)\n",
    "print(X_inception_b.shape)\n",
    "\n",
    "X_vgg = np.concatenate((X_inception_a, X_inception_b), axis=1)\n",
    "save_object(X_vgg, \"../results/X_vgg_finetuned.pickle\")"
   ]
  },
  {
   "cell_type": "code",
   "execution_count": 5,
   "metadata": {},
   "outputs": [],
   "source": [
    "# Load\n",
    "X_vgg = load_object(\"../results/X_vgg_finetuned.pickle\")\n",
    "scaler = StandardScaler()\n",
    "X_vgg_scaled = scaler.fit_transform(X_vgg)"
   ]
  },
  {
   "cell_type": "markdown",
   "metadata": {},
   "source": [
    "### Classification\n",
    "\n",
    "#### Standard ML Models"
   ]
  },
  {
   "cell_type": "code",
   "execution_count": 6,
   "metadata": {},
   "outputs": [],
   "source": [
    "## Hyperparameter configurations and result storage\n",
    "param_grid_svc = {\n",
    "    # random search varying the parameter\n",
    "    'C': [0.1, 1, 10, 100, 1000],  \n",
    "    'gamma': [\"scale\", \"auto\"], \n",
    "    'kernel': [\"rbf\", \"linear\"]\n",
    "}\n",
    "\n",
    "param_grid_rf = { \n",
    "    'n_estimators': [10, 100, 200],\n",
    "    'criterion' :['gini', 'entropy']\n",
    "}\n",
    "\n",
    "# Used to store results for different feature sets\n",
    "list_dict_results = []"
   ]
  },
  {
   "cell_type": "code",
   "execution_count": 7,
   "metadata": {},
   "outputs": [],
   "source": [
    "## Loop configuration\n",
    "feature_sets = [\n",
    "    (X_vgg, y_species),\n",
    "    (X_vgg_scaled, y_species),\n",
    "]\n",
    "feature_sets_name = [\n",
    "    \"fine-tuned vgg\",\n",
    "    \"fine-tuned vgg scaled\",\n",
    "]\n",
    "\n",
    "## Classifier and hyperparameter loops\n",
    "param_grids = [param_grid_svc, param_grid_rf]\n",
    "classifiers_name = [\"svc\", \"rf\"]\n",
    "classifiers = [SVC(), RandomForestClassifier()]\n",
    "cmaps = [\"plasma\", \"viridis\"]"
   ]
  },
  {
   "cell_type": "code",
   "execution_count": 8,
   "metadata": {
    "scrolled": true
   },
   "outputs": [
    {
     "name": "stdout",
     "output_type": "stream",
     "text": [
      "**************************************************\n",
      "fine-tuned vgg\n",
      "------------------------------\n",
      "svc\n",
      "Accuracy: 0.9604477611940299\n",
      "F1: 0.9569651741293532\n"
     ]
    },
    {
     "data": {
      "image/png": "[encoded data removed]",
      "text/plain": [
       "<Figure size 432x432 with 2 Axes>"
      ]
     },
     "metadata": {
      "needs_background": "light"
     },
     "output_type": "display_data"
    },
    {
     "name": "stdout",
     "output_type": "stream",
     "text": [
      "\n",
      "------------------------------\n",
      "rf\n",
      "Accuracy: 0.95\n",
      "F1: 0.9444278606965174\n"
     ]
    },
    {
     "data": {
      "image/png": "[encoded data removed]",
      "text/plain": [
       "<Figure size 432x432 with 2 Axes>"
      ]
     },
     "metadata": {
      "needs_background": "light"
     },
     "output_type": "display_data"
    },
    {
     "name": "stdout",
     "output_type": "stream",
     "text": [
      "\n",
      "**************************************************\n",
      "fine-tuned vgg scaled\n",
      "------------------------------\n",
      "svc\n",
      "Accuracy: 0.953731343283582\n",
      "F1: 0.9516086235489221\n"
     ]
    },
    {
     "data": {
      "image/png": "[encoded data removed]",
      "text/plain": [
       "<Figure size 432x432 with 2 Axes>"
      ]
     },
     "metadata": {
      "needs_background": "light"
     },
     "output_type": "display_data"
    },
    {
     "name": "stdout",
     "output_type": "stream",
     "text": [
      "\n",
      "------------------------------\n",
      "rf\n",
      "Accuracy: 0.9462686567164178\n",
      "F1: 0.941592039800995\n"
     ]
    },
    {
     "data": {
      "image/png": "[encoded data removed]",
      "text/plain": [
       "<Figure size 432x432 with 2 Axes>"
      ]
     },
     "metadata": {
      "needs_background": "light"
     },
     "output_type": "display_data"
    },
    {
     "name": "stdout",
     "output_type": "stream",
     "text": [
      "\n"
     ]
    }
   ],
   "source": [
    "## Evaluation\n",
    "# Iterate over different feature sets\n",
    "for feature_set , feature_set_name in zip(feature_sets, feature_sets_name):\n",
    "\n",
    "    print(\"*\"*50)\n",
    "    print(feature_set_name)\n",
    "    \n",
    "    X = feature_set[0]\n",
    "    y = feature_set[1]\n",
    "    \n",
    "    dict_results = generate_dict_results()\n",
    "    # Iterate over different classifiers\n",
    "    for classifier, classifier_name, param_grid, cmap in zip(classifiers, \n",
    "                                                             classifiers_name, \n",
    "                                                             param_grids,\n",
    "                                                             cmaps):\n",
    "        print(\"-\"*30)\n",
    "        print(classifier_name)\n",
    "\n",
    "        list_acc, list_cm, list_f1, list_cv_results = nested_cv_sklearn(classifier, param_grid, X, y, 5)\n",
    "        # Add data to dict_results\n",
    "        dict_results[\"accuracy\"].append(list_acc)\n",
    "        dict_results[\"f1\"].append(list_f1)\n",
    "        dict_results[\"cv_results\"].append(list_cv_results)\n",
    "        dict_results[\"cm\"].append(list_cm)\n",
    "\n",
    "        # Display accuracy, f1, confusion matrix\n",
    "        print(f\"Accuracy: {np.mean(list_acc)}\")\n",
    "        print(f\"F1: {np.mean(list_f1)}\")\n",
    "        cm = sum(list_cm)\n",
    "\n",
    "        plot_confusion_matrix(cm, cmap=cmap)\n",
    "\n",
    "        print()\n",
    "    \n",
    "    list_dict_results.append(dict_results)"
   ]
  },
  {
   "cell_type": "markdown",
   "metadata": {},
   "source": [
    "#### Neural Networks"
   ]
  },
  {
   "cell_type": "code",
   "execution_count": 9,
   "metadata": {},
   "outputs": [],
   "source": [
    "## Loop configuration\n",
    "feature_sets = [\n",
    "    (X_vgg, y_species),\n",
    "    (X_vgg_scaled, y_species),\n",
    "]\n",
    "feature_sets_name = [\n",
    "    \"fine-tuned vgg\",\n",
    "    \"fine-tuned vgg scaled\",\n",
    "]"
   ]
  },
  {
   "cell_type": "code",
   "execution_count": null,
   "metadata": {},
   "outputs": [],
   "source": [
    "param_grid_ffnn = { \n",
    "    'layer1_filters': [16, 32, 64, 128, 256],\n",
    "    'layer2_filters': [16, 32, 64, 128, 256],\n",
    "    'lr': np.random.uniform(0, 1, 5)\n",
    "}"
   ]
  },
  {
   "cell_type": "code",
   "execution_count": 10,
   "metadata": {},
   "outputs": [],
   "source": [
    "# Neural network configuration (simple one for standard)\n",
    "# see more complex version on utilities.ipynb that are evaluated\n",
    "# on other files.\n",
    "optimizer = keras.optimizers.Adam()\n",
    "batch_size = 64\n",
    "no_epochs = 200"
   ]
  },
  {
   "cell_type": "code",
   "execution_count": 11,
   "metadata": {},
   "outputs": [
    {
     "name": "stdout",
     "output_type": "stream",
     "text": [
      "**************************************************\n",
      "fine-tuned vgg\n",
      "Accuracy: 0.8902985074626866\n",
      "F1: 0.8539943141435679\n"
     ]
    },
    {
     "data": {
      "image/png": "[encoded data removed]",
      "text/plain": [
       "<Figure size 432x432 with 2 Axes>"
      ]
     },
     "metadata": {
      "needs_background": "light"
     },
     "output_type": "display_data"
    },
    {
     "name": "stdout",
     "output_type": "stream",
     "text": [
      "\n",
      "**************************************************\n",
      "fine-tuned vgg scaled\n",
      "Accuracy: 0.885820895522388\n",
      "F1: 0.8486709310589907\n"
     ]
    },
    {
     "data": {
      "image/png": "[encoded data removed]",
      "text/plain": [
       "<Figure size 432x432 with 2 Axes>"
      ]
     },
     "metadata": {
      "needs_background": "light"
     },
     "output_type": "display_data"
    },
    {
     "name": "stdout",
     "output_type": "stream",
     "text": [
      "\n"
     ]
    }
   ],
   "source": [
    "## Evaluation\n",
    "# Iterate over different feature sets\n",
    "for feature_set , feature_set_name in zip(feature_sets, feature_sets_name):\n",
    "\n",
    "    print(\"*\"*50)\n",
    "    print(feature_set_name)\n",
    "    \n",
    "    X = feature_set[0]\n",
    "    y = feature_set[1]\n",
    "    \n",
    "    dict_results = generate_dict_results()\n",
    "    \n",
    "    kfold = StratifiedKFold(n_splits=5, shuffle=True)\n",
    "    \n",
    "    # Neural network training\n",
    "    X = np.array(X)\n",
    "    y = np.array(y)\n",
    "    \n",
    "    for train, test in kfold.split(X, y):\n",
    "        grid_models = []\n",
    "        performance = []\n",
    "        for n1 in param_grid_ffnn[\"layer1_filters\"]:\n",
    "            for n2 in param_grid_ffnn[\"layer2_filters\"]:\n",
    "                for lr in param_grid_ffnn[\"lr\"]:\n",
    "                    model = keras.Sequential(\n",
    "                            [\n",
    "                                layers.Dense(n1, activation=\"relu\"),\n",
    "                                layers.Dense(n2, activation=\"relu\"),\n",
    "                                layers.Dense(134, activation=\"softmax\"),\n",
    "                            ]\n",
    "                        )\n",
    "                    optimizer = keras.optimizers.Adam(learnin_rate=lr)\n",
    "                    \n",
    "                    model.compile(loss=\"sparse_categorical_crossentropy\",\n",
    "                                 optimizer=optimizer,\n",
    "                                 metrics=[\"accuracy\"])\n",
    "\n",
    "                    # Valid data\n",
    "                    valid_range = int(0.2 * len(train))\n",
    "                    valid = train[:valid_range]\n",
    "                    train = train[valid_range:]\n",
    "                    test_range = int(0.1 * len(valid))\n",
    "                    test_inner = valid[:test_range]\n",
    "                    valid = valid[test_range:]\n",
    "\n",
    "                    # Early stopping callbacks\n",
    "                    early_stopping = tf.keras.callbacks.EarlyStopping(\n",
    "                        monitor='val_loss', min_delta=0, patience=20,\n",
    "                        mode=\"auto\", restore_best_weights=False\n",
    "                    )\n",
    "\n",
    "                    # Fit data to model\n",
    "                    history = model.fit(X[train], y[train],\n",
    "                              batch_size=batch_size,\n",
    "                              epochs=no_epochs, verbose=0, \n",
    "                              validation_data=(X[valid], y[valid]),\n",
    "                              callbacks=[early_stopping])\n",
    "                    \n",
    "                    pred = model.predict(X[test_inner])\n",
    "                    pred = np.argmax(pred, axis=1)\n",
    "                    acc_inner = accuracy_score(pred, y[test_inner])\n",
    "                    grid_models.append(model)\n",
    "                    performance.append(acc_inner)\n",
    "        \n",
    "        # Refit the best model\n",
    "        model = grid_models[np.argmax(performance)]\n",
    "        \n",
    "        # Generate generalisation metrics\n",
    "        pred = model.predict(X[test])\n",
    "        pred = np.argmax(pred, axis=1)\n",
    "        cm = confusion_matrix(pred, y[test])\n",
    "        acc = accuracy_score(pred, y[test])\n",
    "        f1 = f1_score(pred, y[test], average=\"macro\")\n",
    "        \n",
    "        # Add data to dict results\n",
    "        dict_results[\"accuracy\"].append(acc)\n",
    "        dict_results[\"f1\"].append(f1)\n",
    "        dict_results[\"cm\"].append(cm)\n",
    "        \n",
    "    # Display accuracy, f1, confusion matrix\n",
    "    print(f\"Accuracy: {np.mean(dict_results['accuracy'])}\")\n",
    "    print(f\"F1: {np.mean(dict_results['f1'])}\")\n",
    "    plot_confusion_matrix(sum(dict_results['cm']), cmap=\"cividis\")\n",
    "\n",
    "    print()\n",
    "\n",
    "    list_dict_results.append(dict_results)"
   ]
  }
 ],
 "metadata": {
  "kernelspec": {
   "display_name": "Python 3",
   "language": "python",
   "name": "python3"
  },
  "language_info": {
   "codemirror_mode": {
    "name": "ipython",
    "version": 3
   },
   "file_extension": ".py",
   "mimetype": "text/x-python",
   "name": "python",
   "nbconvert_exporter": "python",
   "pygments_lexer": "ipython3",
   "version": "3.7.6"
  }
 },
 "nbformat": 4,
 "nbformat_minor": 4
}
